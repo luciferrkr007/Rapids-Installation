{
 "cells": [
  {
   "cell_type": "markdown",
   "metadata": {
    "id": "CrmTG3LkIWBI"
   },
   "source": [
    "# Rapids"
   ]
  },
  {
   "cell_type": "markdown",
   "metadata": {
    "id": "tg2K2R6nL2GW"
   },
   "source": [
    "The RAPIDS suite of software libraries, built on CUDA-X AI, gives you the freedom to execute end-to-end data science and analytics pipelines entirely on GPUs. It relies on **NVIDIA** and **CUDA** primitives for low-level compute optimization, but exposes that GPU parallelism and high-bandwidth memory speed through user-friendly Python interfaces. It also focuses on common data preparation tasks for analytics and data science. This includes a familiar DataFrame API that integrates with a variety of machine learning algorithms for end-to-end pipeline accelerations without paying typical serialization costs. RAPIDS also includes support for multi-node, multi-GPU deployments, enabling vastly accelerated processing and training on much larger dataset sizes."
   ]
  },
  {
   "cell_type": "markdown",
   "metadata": {
    "id": "_GzewmlBLmGf"
   },
   "source": [
    "# Installing Rapids"
   ]
  },
  {
   "cell_type": "markdown",
   "metadata": {
    "id": "6d5Hhe9WLrQb"
   },
   "source": [
    "Installing rapids can be a headache as it requires few specific versions of some libraries and installing them individually can be labourious. So here we have our code which does everything for you."
   ]
  },
  {
   "cell_type": "markdown",
   "metadata": {
    "id": "brL0RdH9I4id"
   },
   "source": [
    "**nvidia-smi**  provides monitoring and management capabilities for each of NVIDIA's Tesla, Quadro, GRID and GeForce devices from Fermi and higher architecture families."
   ]
  },
  {
   "cell_type": "code",
   "execution_count": 1,
   "metadata": {
    "colab": {
     "base_uri": "https://localhost:8080/"
    },
    "id": "b0umZ8RWIZqI",
    "outputId": "a81a836c-2d8b-48f8-abc7-64455513592d"
   },
   "outputs": [
    {
     "name": "stdout",
     "output_type": "stream",
     "text": [
      "Thu Jan 14 06:49:11 2021       \n",
      "+-----------------------------------------------------------------------------+\n",
      "| NVIDIA-SMI 460.27.04    Driver Version: 418.67       CUDA Version: 10.1     |\n",
      "|-------------------------------+----------------------+----------------------+\n",
      "| GPU  Name        Persistence-M| Bus-Id        Disp.A | Volatile Uncorr. ECC |\n",
      "| Fan  Temp  Perf  Pwr:Usage/Cap|         Memory-Usage | GPU-Util  Compute M. |\n",
      "|                               |                      |               MIG M. |\n",
      "|===============================+======================+======================|\n",
      "|   0  Tesla T4            Off  | 00000000:00:04.0 Off |                    0 |\n",
      "| N/A   47C    P8     9W /  70W |      0MiB / 15079MiB |      0%      Default |\n",
      "|                               |                      |                 ERR! |\n",
      "+-------------------------------+----------------------+----------------------+\n",
      "                                                                               \n",
      "+-----------------------------------------------------------------------------+\n",
      "| Processes:                                                                  |\n",
      "|  GPU   GI   CI        PID   Type   Process name                  GPU Memory |\n",
      "|        ID   ID                                                   Usage      |\n",
      "|=============================================================================|\n",
      "|  No running processes found                                                 |\n",
      "+-----------------------------------------------------------------------------+\n"
     ]
    }
   ],
   "source": [
    "!nvidia-smi "
   ]
  },
  {
   "cell_type": "markdown",
   "metadata": {
    "id": "lTEkS1LWJV1_"
   },
   "source": [
    "Rapids support till Python version 3.8 till date. So its better to check your python version too."
   ]
  },
  {
   "cell_type": "code",
   "execution_count": 2,
   "metadata": {
    "colab": {
     "base_uri": "https://localhost:8080/"
    },
    "id": "wu3rkap3IkfU",
    "outputId": "94255fb2-fb72-4615-a2e1-a4bbfd49b7b0"
   },
   "outputs": [
    {
     "name": "stdout",
     "output_type": "stream",
     "text": [
      "Python 3.6.9\n",
      "pip 19.3.1 from /usr/local/lib/python3.6/dist-packages/pip (python 3.6)\n"
     ]
    }
   ],
   "source": [
    "!python -V; pip -V "
   ]
  },
  {
   "cell_type": "markdown",
   "metadata": {
    "id": "YhqStQAwBrnp"
   },
   "source": [
    "Checking CUDA version"
   ]
  },
  {
   "cell_type": "code",
   "execution_count": 3,
   "metadata": {
    "colab": {
     "base_uri": "https://localhost:8080/"
    },
    "id": "tlh2ZfN5Bv5y",
    "outputId": "55c68908-abb6-4fdc-e496-0c3af1787a62"
   },
   "outputs": [
    {
     "name": "stdout",
     "output_type": "stream",
     "text": [
      "nvcc: NVIDIA (R) Cuda compiler driver\n",
      "Copyright (c) 2005-2019 NVIDIA Corporation\n",
      "Built on Sun_Jul_28_19:07:16_PDT_2019\n",
      "Cuda compilation tools, release 10.1, V10.1.243\n",
      "/usr/local/cuda/bin/nvcc\n"
     ]
    }
   ],
   "source": [
    "!nvcc -V && which nvcc"
   ]
  },
  {
   "cell_type": "markdown",
   "metadata": {
    "id": "LR4WqA4htTVs"
   },
   "source": [
    "Checking OS"
   ]
  },
  {
   "cell_type": "code",
   "execution_count": 12,
   "metadata": {
    "colab": {
     "base_uri": "https://localhost:8080/",
     "height": 35
    },
    "id": "NgMgkLAns7yv",
    "outputId": "995e1e5b-61f1-4cc8-9bf5-932126426a51"
   },
   "outputs": [
    {
     "data": {
      "application/vnd.google.colaboratory.intrinsic+json": {
       "type": "string"
      },
      "text/plain": [
       "'Linux'"
      ]
     },
     "execution_count": 12,
     "metadata": {
      "tags": []
     },
     "output_type": "execute_result"
    }
   ],
   "source": [
    "import platform\n",
    "platform.system()"
   ]
  },
  {
   "cell_type": "markdown",
   "metadata": {
    "id": "sgD4kOwiMSmo"
   },
   "source": [
    "### Installation "
   ]
  },
  {
   "cell_type": "markdown",
   "metadata": {
    "id": "s9VaNHruACYK"
   },
   "source": [
    "  **Steps:**\n",
    "\n",
    "1. Nothing extra is needed just run this cell.\n",
    "2. It asks about the versions you want, if you want the default versions just press enter and the installation will proceed and no further action is required.\n",
    "3. In general it takes 8-10 mins to complete the installation, till then sit and relax. \n",
    "3. Rapids has a variety of libraries which work on GPU cudf and dask_cudf are few of those, You can import them to see whether your installation is perfect or not. \n"
   ]
  },
  {
   "cell_type": "code",
   "execution_count": null,
   "metadata": {
    "id": "jMKTR05xJZv6"
   },
   "outputs": [],
   "source": [
    "!git clone https://github.com/rapidsai/rapidsai-csp-utils.git\n",
    "!bash rapidsai-csp-utils/colab/rapids-colab.sh\n",
    "\n",
    "import sys, os\n",
    "\n",
    "dist_package_index = sys.path.index('/usr/local/lib/python3.6/dist-packages')\n",
    "sys.path = sys.path[:dist_package_index] + ['/usr/local/lib/python3.6/site-packages'] + sys.path[dist_package_index:]\n",
    "sys.path\n",
    "exec(open('rapidsai-csp-utils/colab/update_modules.py').read(), globals())"
   ]
  },
  {
   "cell_type": "markdown",
   "metadata": {
    "id": "W6hAoP6BNDkV"
   },
   "source": [
    "# Importing few Rapids libraries"
   ]
  },
  {
   "cell_type": "code",
   "execution_count": 5,
   "metadata": {
    "id": "lARicmaXNInq"
   },
   "outputs": [],
   "source": [
    "import cudf\n",
    "import dask_cudf\n",
    "import cuml\n",
    "import nvstrings\n",
    "import nvcategory\n",
    "import cugraph"
   ]
  },
  {
   "cell_type": "code",
   "execution_count": 6,
   "metadata": {
    "colab": {
     "base_uri": "https://localhost:8080/",
     "height": 35
    },
    "id": "p-TXRtjTNMWS",
    "outputId": "a7916e49-4862-4765-c3d0-8d53f820545d"
   },
   "outputs": [
    {
     "data": {
      "application/vnd.google.colaboratory.intrinsic+json": {
       "type": "string"
      },
      "text/plain": [
       "'0.13.0'"
      ]
     },
     "execution_count": 6,
     "metadata": {
      "tags": []
     },
     "output_type": "execute_result"
    }
   ],
   "source": [
    "cudf.__version__"
   ]
  },
  {
   "cell_type": "code",
   "execution_count": 7,
   "metadata": {
    "colab": {
     "base_uri": "https://localhost:8080/",
     "height": 35
    },
    "id": "18ltTOF6Nauy",
    "outputId": "24b713ac-3584-45e3-f384-2980a7fcfd85"
   },
   "outputs": [
    {
     "data": {
      "application/vnd.google.colaboratory.intrinsic+json": {
       "type": "string"
      },
      "text/plain": [
       "'0.13.0'"
      ]
     },
     "execution_count": 7,
     "metadata": {
      "tags": []
     },
     "output_type": "execute_result"
    }
   ],
   "source": [
    "dask_cudf.__version__"
   ]
  },
  {
   "cell_type": "code",
   "execution_count": 8,
   "metadata": {
    "colab": {
     "base_uri": "https://localhost:8080/",
     "height": 35
    },
    "id": "riLQIFP3EZwA",
    "outputId": "44bf69c4-ab9b-4c99-a797-a82f4836517e"
   },
   "outputs": [
    {
     "data": {
      "application/vnd.google.colaboratory.intrinsic+json": {
       "type": "string"
      },
      "text/plain": [
       "'0.13.0'"
      ]
     },
     "execution_count": 8,
     "metadata": {
      "tags": []
     },
     "output_type": "execute_result"
    }
   ],
   "source": [
    "cuml.__version__"
   ]
  },
  {
   "cell_type": "code",
   "execution_count": 9,
   "metadata": {
    "colab": {
     "base_uri": "https://localhost:8080/",
     "height": 35
    },
    "id": "As1zFy6cE6RY",
    "outputId": "f710c5c2-c871-471b-fc4c-8eb4ba5b0345"
   },
   "outputs": [
    {
     "data": {
      "application/vnd.google.colaboratory.intrinsic+json": {
       "type": "string"
      },
      "text/plain": [
       "'0.13.0+0.gac36e8c.dirty'"
      ]
     },
     "execution_count": 9,
     "metadata": {
      "tags": []
     },
     "output_type": "execute_result"
    }
   ],
   "source": [
    "cugraph.__version__"
   ]
  },
  {
   "cell_type": "markdown",
   "metadata": {
    "id": "BTg-YTgdOD1S"
   },
   "source": [
    " Rapids libraries are ready to be in action"
   ]
  }
 ],
 "metadata": {
  "accelerator": "GPU",
  "colab": {
   "name": "Rapids Installation.ipynb",
   "provenance": []
  },
  "kernelspec": {
   "display_name": "Python 3",
   "language": "python",
   "name": "python3"
  },
  "language_info": {
   "codemirror_mode": {
    "name": "ipython",
    "version": 3
   },
   "file_extension": ".py",
   "mimetype": "text/x-python",
   "name": "python",
   "nbconvert_exporter": "python",
   "pygments_lexer": "ipython3",
   "version": "3.6.12"
  }
 },
 "nbformat": 4,
 "nbformat_minor": 1
}
